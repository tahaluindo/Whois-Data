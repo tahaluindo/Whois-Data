{
  "nbformat": 4,
  "nbformat_minor": 0,
  "metadata": {
    "kernelspec": {
      "display_name": "Python 3",
      "language": "python",
      "name": "python3"
    },
    "language_info": {
      "codemirror_mode": {
        "name": "ipython",
        "version": 3
      },
      "file_extension": ".py",
      "mimetype": "text/x-python",
      "name": "python",
      "nbconvert_exporter": "python",
      "pygments_lexer": "ipython3",
      "version": "3.8.3"
    },
    "colab": {
      "name": "Tranco_Aggregation.ipynb",
      "provenance": [],
      "toc_visible": true
    }
  },
  "cells": [
    {
      "cell_type": "code",
      "metadata": {
        "id": "c7J1L9AUD870"
      },
      "source": [
        "import pandas as pd\n",
        "import matplotlib.pyplot as plt\n",
        "import seaborn as sns"
      ],
      "execution_count": 2,
      "outputs": []
    },
    {
      "cell_type": "code",
      "metadata": {
        "id": "KUT1_7ugD872"
      },
      "source": [
        "domains = pd.read_csv('TRANCO_1M_MASTER.csv')\n",
        "domains = domains.head(100)"
      ],
      "execution_count": 6,
      "outputs": []
    },
    {
      "cell_type": "code",
      "metadata": {
        "id": "xRAMO-jkD872"
      },
      "source": [
        "domains.columns = ['index', 'domain']\n",
        "domains.drop('index', inplace=True, axis=1)"
      ],
      "execution_count": 7,
      "outputs": []
    },
    {
      "cell_type": "code",
      "metadata": {
        "colab": {
          "base_uri": "https://localhost:8080/",
          "height": 195
        },
        "id": "lUkRO0zbD872",
        "outputId": "b4f65eb2-5284-47ea-f8bc-e3bcf9bb4993"
      },
      "source": [
        "domains.head()"
      ],
      "execution_count": 8,
      "outputs": [
        {
          "output_type": "execute_result",
          "data": {
            "text/html": [
              "<div>\n",
              "<style scoped>\n",
              "    .dataframe tbody tr th:only-of-type {\n",
              "        vertical-align: middle;\n",
              "    }\n",
              "\n",
              "    .dataframe tbody tr th {\n",
              "        vertical-align: top;\n",
              "    }\n",
              "\n",
              "    .dataframe thead th {\n",
              "        text-align: right;\n",
              "    }\n",
              "</style>\n",
              "<table border=\"1\" class=\"dataframe\">\n",
              "  <thead>\n",
              "    <tr style=\"text-align: right;\">\n",
              "      <th></th>\n",
              "      <th>domain</th>\n",
              "    </tr>\n",
              "  </thead>\n",
              "  <tbody>\n",
              "    <tr>\n",
              "      <th>0</th>\n",
              "      <td>google.com</td>\n",
              "    </tr>\n",
              "    <tr>\n",
              "      <th>1</th>\n",
              "      <td>youtube.com</td>\n",
              "    </tr>\n",
              "    <tr>\n",
              "      <th>2</th>\n",
              "      <td>facebook.com</td>\n",
              "    </tr>\n",
              "    <tr>\n",
              "      <th>3</th>\n",
              "      <td>microsoft.com</td>\n",
              "    </tr>\n",
              "    <tr>\n",
              "      <th>4</th>\n",
              "      <td>twitter.com</td>\n",
              "    </tr>\n",
              "  </tbody>\n",
              "</table>\n",
              "</div>"
            ],
            "text/plain": [
              "          domain\n",
              "0     google.com\n",
              "1    youtube.com\n",
              "2   facebook.com\n",
              "3  microsoft.com\n",
              "4    twitter.com"
            ]
          },
          "metadata": {
            "tags": []
          },
          "execution_count": 8
        }
      ]
    },
    {
      "cell_type": "code",
      "metadata": {
        "colab": {
          "base_uri": "https://localhost:8080/",
          "height": 195
        },
        "id": "LLB7P6dZD873",
        "outputId": "9b2cdf4e-4336-4361-afd7-605eaf305236"
      },
      "source": [
        "# Find the TLD for each domain\n",
        "domains['TLD'] = domains['domain'].apply(lambda x : x.split('.')[-1])\n",
        "\n",
        "tld_counts = domains.groupby('TLD').count()\n",
        "tld_counts.reset_index(inplace=True)\n",
        "tld_counts.head()"
      ],
      "execution_count": 9,
      "outputs": [
        {
          "output_type": "execute_result",
          "data": {
            "text/html": [
              "<div>\n",
              "<style scoped>\n",
              "    .dataframe tbody tr th:only-of-type {\n",
              "        vertical-align: middle;\n",
              "    }\n",
              "\n",
              "    .dataframe tbody tr th {\n",
              "        vertical-align: top;\n",
              "    }\n",
              "\n",
              "    .dataframe thead th {\n",
              "        text-align: right;\n",
              "    }\n",
              "</style>\n",
              "<table border=\"1\" class=\"dataframe\">\n",
              "  <thead>\n",
              "    <tr style=\"text-align: right;\">\n",
              "      <th></th>\n",
              "      <th>TLD</th>\n",
              "      <th>domain</th>\n",
              "    </tr>\n",
              "  </thead>\n",
              "  <tbody>\n",
              "    <tr>\n",
              "      <th>0</th>\n",
              "      <td>be</td>\n",
              "      <td>1</td>\n",
              "    </tr>\n",
              "    <tr>\n",
              "      <th>1</th>\n",
              "      <td>cn</td>\n",
              "      <td>2</td>\n",
              "    </tr>\n",
              "    <tr>\n",
              "      <th>2</th>\n",
              "      <td>co</td>\n",
              "      <td>1</td>\n",
              "    </tr>\n",
              "    <tr>\n",
              "      <th>3</th>\n",
              "      <td>com</td>\n",
              "      <td>72</td>\n",
              "    </tr>\n",
              "    <tr>\n",
              "      <th>4</th>\n",
              "      <td>eu</td>\n",
              "      <td>1</td>\n",
              "    </tr>\n",
              "  </tbody>\n",
              "</table>\n",
              "</div>"
            ],
            "text/plain": [
              "   TLD  domain\n",
              "0   be       1\n",
              "1   cn       2\n",
              "2   co       1\n",
              "3  com      72\n",
              "4   eu       1"
            ]
          },
          "metadata": {
            "tags": []
          },
          "execution_count": 9
        }
      ]
    },
    {
      "cell_type": "code",
      "metadata": {
        "colab": {
          "base_uri": "https://localhost:8080/",
          "height": 295
        },
        "id": "brLt2IiQD873",
        "outputId": "2d46c601-e843-4eb9-bfba-5d05508189b7"
      },
      "source": [
        "# Histogram of top 100 domains and their TLDs\n",
        "from google.colab import files\n",
        "plot = sns.barplot(x='TLD', y='domain', data=tld_counts)\n",
        "plt.title(\"Top-level Domains of 100 most popular domains\")\n",
        "#plt.show()\n",
        "plt.savefig('hist.png', dpi=100)\n",
        "files.download('hist.png')"
      ],
      "execution_count": 17,
      "outputs": [
        {
          "output_type": "display_data",
          "data": {
            "application/javascript": [
              "\n",
              "    async function download(id, filename, size) {\n",
              "      if (!google.colab.kernel.accessAllowed) {\n",
              "        return;\n",
              "      }\n",
              "      const div = document.createElement('div');\n",
              "      const label = document.createElement('label');\n",
              "      label.textContent = `Downloading \"${filename}\": `;\n",
              "      div.appendChild(label);\n",
              "      const progress = document.createElement('progress');\n",
              "      progress.max = size;\n",
              "      div.appendChild(progress);\n",
              "      document.body.appendChild(div);\n",
              "\n",
              "      const buffers = [];\n",
              "      let downloaded = 0;\n",
              "\n",
              "      const channel = await google.colab.kernel.comms.open(id);\n",
              "      // Send a message to notify the kernel that we're ready.\n",
              "      channel.send({})\n",
              "\n",
              "      for await (const message of channel.messages) {\n",
              "        // Send a message to notify the kernel that we're ready.\n",
              "        channel.send({})\n",
              "        if (message.buffers) {\n",
              "          for (const buffer of message.buffers) {\n",
              "            buffers.push(buffer);\n",
              "            downloaded += buffer.byteLength;\n",
              "            progress.value = downloaded;\n",
              "          }\n",
              "        }\n",
              "      }\n",
              "      const blob = new Blob(buffers, {type: 'application/binary'});\n",
              "      const a = document.createElement('a');\n",
              "      a.href = window.URL.createObjectURL(blob);\n",
              "      a.download = filename;\n",
              "      div.appendChild(a);\n",
              "      a.click();\n",
              "      div.remove();\n",
              "    }\n",
              "  "
            ],
            "text/plain": [
              "<IPython.core.display.Javascript object>"
            ]
          },
          "metadata": {
            "tags": []
          }
        },
        {
          "output_type": "display_data",
          "data": {
            "application/javascript": [
              "download(\"download_aa46f794-fcfa-4394-8a57-e5317c820ca1\", \"hist.png\", 11995)"
            ],
            "text/plain": [
              "<IPython.core.display.Javascript object>"
            ]
          },
          "metadata": {
            "tags": []
          }
        },
        {
          "output_type": "display_data",
          "data": {
            "image/png": "[encoded data removed]",
            "text/plain": [
              "<Figure size 432x288 with 1 Axes>"
            ]
          },
          "metadata": {
            "tags": [],
            "needs_background": "light"
          }
        }
      ]
    },
    {
      "cell_type": "code",
      "metadata": {
        "id": "EeQIWtNOD875"
      },
      "source": [
        ""
      ],
      "execution_count": null,
      "outputs": []
    },
    {
      "cell_type": "markdown",
      "metadata": {
        "id": "Lj8t59tTq6pH"
      },
      "source": [
        "## Visualizations for MEGA csv"
      ]
    },
    {
      "cell_type": "code",
      "metadata": {
        "colab": {
          "base_uri": "https://localhost:8080/",
          "height": 195
        },
        "id": "-doEvuqDq9tn",
        "outputId": "fa0df64d-422d-4f91-8f2d-5911ea6d171b"
      },
      "source": [
        "from google.colab import files\n",
        "mega = pd.read_csv('MASTER_RESULTS.csv')\n",
        "mega.head()"
      ],
      "execution_count": 72,
      "outputs": [
        {
          "output_type": "execute_result",
          "data": {
            "text/html": [
              "<div>\n",
              "<style scoped>\n",
              "    .dataframe tbody tr th:only-of-type {\n",
              "        vertical-align: middle;\n",
              "    }\n",
              "\n",
              "    .dataframe tbody tr th {\n",
              "        vertical-align: top;\n",
              "    }\n",
              "\n",
              "    .dataframe thead th {\n",
              "        text-align: right;\n",
              "    }\n",
              "</style>\n",
              "<table border=\"1\" class=\"dataframe\">\n",
              "  <thead>\n",
              "    <tr style=\"text-align: right;\">\n",
              "      <th></th>\n",
              "      <th>site</th>\n",
              "      <th>rank</th>\n",
              "      <th>tld</th>\n",
              "      <th>tld_type</th>\n",
              "      <th>country</th>\n",
              "      <th>delv_result</th>\n",
              "    </tr>\n",
              "  </thead>\n",
              "  <tbody>\n",
              "    <tr>\n",
              "      <th>0</th>\n",
              "      <td>google.com</td>\n",
              "      <td>1</td>\n",
              "      <td>com</td>\n",
              "      <td>gTLD</td>\n",
              "      <td>US</td>\n",
              "      <td>0</td>\n",
              "    </tr>\n",
              "    <tr>\n",
              "      <th>1</th>\n",
              "      <td>youtube.com</td>\n",
              "      <td>2</td>\n",
              "      <td>com</td>\n",
              "      <td>gTLD</td>\n",
              "      <td>US</td>\n",
              "      <td>0</td>\n",
              "    </tr>\n",
              "    <tr>\n",
              "      <th>2</th>\n",
              "      <td>facebook.com</td>\n",
              "      <td>3</td>\n",
              "      <td>com</td>\n",
              "      <td>gTLD</td>\n",
              "      <td>US</td>\n",
              "      <td>0</td>\n",
              "    </tr>\n",
              "    <tr>\n",
              "      <th>3</th>\n",
              "      <td>microsoft.com</td>\n",
              "      <td>4</td>\n",
              "      <td>com</td>\n",
              "      <td>gTLD</td>\n",
              "      <td>US</td>\n",
              "      <td>0</td>\n",
              "    </tr>\n",
              "    <tr>\n",
              "      <th>4</th>\n",
              "      <td>twitter.com</td>\n",
              "      <td>5</td>\n",
              "      <td>com</td>\n",
              "      <td>gTLD</td>\n",
              "      <td>US</td>\n",
              "      <td>0</td>\n",
              "    </tr>\n",
              "  </tbody>\n",
              "</table>\n",
              "</div>"
            ],
            "text/plain": [
              "            site  rank  tld tld_type country  delv_result\n",
              "0     google.com     1  com     gTLD      US            0\n",
              "1    youtube.com     2  com     gTLD      US            0\n",
              "2   facebook.com     3  com     gTLD      US            0\n",
              "3  microsoft.com     4  com     gTLD      US            0\n",
              "4    twitter.com     5  com     gTLD      US            0"
            ]
          },
          "metadata": {
            "tags": []
          },
          "execution_count": 72
        }
      ]
    },
    {
      "cell_type": "code",
      "metadata": {
        "colab": {
          "base_uri": "https://localhost:8080/"
        },
        "id": "AGCnj8hwusWA",
        "outputId": "152125bc-f04e-4459-b27c-e9fffc018c7e"
      },
      "source": [
        "from matplotlib.pyplot import pie\n",
        "dnssec_support = mega.groupby('delv_result').count().site\n",
        "dnssec_support"
      ],
      "execution_count": 73,
      "outputs": [
        {
          "output_type": "execute_result",
          "data": {
            "text/plain": [
              "delv_result\n",
              "-2      3227\n",
              "-1      7366\n",
              " 0    939165\n",
              " 1     50242\n",
              "Name: site, dtype: int64"
            ]
          },
          "metadata": {
            "tags": []
          },
          "execution_count": 73
        }
      ]
    },
    {
      "cell_type": "code",
      "metadata": {
        "colab": {
          "base_uri": "https://localhost:8080/",
          "height": 264
        },
        "id": "DQJ7IgYgwQtO",
        "outputId": "647d3c83-6e11-48b3-c3f6-773268cd3522"
      },
      "source": [
        "# Pie chart for DNSSEC support for domains\n",
        "labels=['unsigned answer with failure (0.3%)','SERVFAIL (0.7%)','unsigned answer (93.9%)', 'fully validated (5.0%)']\n",
        "pie(dnssec_support,pctdistance=2)\n",
        "plt.title(\"DNSSEC support for 1M domains\")\n",
        "plt.axis('equal')\n",
        "plt.legend(labels=labels,loc=\"best\")\n",
        "plt.savefig('dnssec_domains.png',dpi=100)\n",
        "\n",
        "#plt.tight_layout()\n",
        "files.download('dnssec_domains.png')"
      ],
      "execution_count": 146,
      "outputs": [
        {
          "output_type": "display_data",
          "data": {
            "application/javascript": [
              "\n",
              "    async function download(id, filename, size) {\n",
              "      if (!google.colab.kernel.accessAllowed) {\n",
              "        return;\n",
              "      }\n",
              "      const div = document.createElement('div');\n",
              "      const label = document.createElement('label');\n",
              "      label.textContent = `Downloading \"${filename}\": `;\n",
              "      div.appendChild(label);\n",
              "      const progress = document.createElement('progress');\n",
              "      progress.max = size;\n",
              "      div.appendChild(progress);\n",
              "      document.body.appendChild(div);\n",
              "\n",
              "      const buffers = [];\n",
              "      let downloaded = 0;\n",
              "\n",
              "      const channel = await google.colab.kernel.comms.open(id);\n",
              "      // Send a message to notify the kernel that we're ready.\n",
              "      channel.send({})\n",
              "\n",
              "      for await (const message of channel.messages) {\n",
              "        // Send a message to notify the kernel that we're ready.\n",
              "        channel.send({})\n",
              "        if (message.buffers) {\n",
              "          for (const buffer of message.buffers) {\n",
              "            buffers.push(buffer);\n",
              "            downloaded += buffer.byteLength;\n",
              "            progress.value = downloaded;\n",
              "          }\n",
              "        }\n",
              "      }\n",
              "      const blob = new Blob(buffers, {type: 'application/binary'});\n",
              "      const a = document.createElement('a');\n",
              "      a.href = window.URL.createObjectURL(blob);\n",
              "      a.download = filename;\n",
              "      div.appendChild(a);\n",
              "      a.click();\n",
              "      div.remove();\n",
              "    }\n",
              "  "
            ],
            "text/plain": [
              "<IPython.core.display.Javascript object>"
            ]
          },
          "metadata": {
            "tags": []
          }
        },
        {
          "output_type": "display_data",
          "data": {
            "application/javascript": [
              "download(\"download_baa48894-8923-48d5-99da-4e46f7bebb47\", \"dnssec_domains.png\", 27787)"
            ],
            "text/plain": [
              "<IPython.core.display.Javascript object>"
            ]
          },
          "metadata": {
            "tags": []
          }
        },
        {
          "output_type": "display_data",
          "data": {
            "image/png": "[encoded data removed]",
            "text/plain": [
              "<Figure size 432x288 with 1 Axes>"
            ]
          },
          "metadata": {
            "tags": []
          }
        }
      ]
    },
    {
      "cell_type": "code",
      "metadata": {
        "colab": {
          "base_uri": "https://localhost:8080/",
          "height": 195
        },
        "id": "ca-Payuq9uMC",
        "outputId": "b0372ce1-401f-475c-f1ba-65891cefd7fb"
      },
      "source": [
        "mega.head()"
      ],
      "execution_count": 95,
      "outputs": [
        {
          "output_type": "execute_result",
          "data": {
            "text/html": [
              "<div>\n",
              "<style scoped>\n",
              "    .dataframe tbody tr th:only-of-type {\n",
              "        vertical-align: middle;\n",
              "    }\n",
              "\n",
              "    .dataframe tbody tr th {\n",
              "        vertical-align: top;\n",
              "    }\n",
              "\n",
              "    .dataframe thead th {\n",
              "        text-align: right;\n",
              "    }\n",
              "</style>\n",
              "<table border=\"1\" class=\"dataframe\">\n",
              "  <thead>\n",
              "    <tr style=\"text-align: right;\">\n",
              "      <th></th>\n",
              "      <th>site</th>\n",
              "      <th>rank</th>\n",
              "      <th>tld</th>\n",
              "      <th>tld_type</th>\n",
              "      <th>country</th>\n",
              "      <th>delv_result</th>\n",
              "    </tr>\n",
              "  </thead>\n",
              "  <tbody>\n",
              "    <tr>\n",
              "      <th>0</th>\n",
              "      <td>google.com</td>\n",
              "      <td>1</td>\n",
              "      <td>com</td>\n",
              "      <td>gTLD</td>\n",
              "      <td>US</td>\n",
              "      <td>0</td>\n",
              "    </tr>\n",
              "    <tr>\n",
              "      <th>1</th>\n",
              "      <td>youtube.com</td>\n",
              "      <td>2</td>\n",
              "      <td>com</td>\n",
              "      <td>gTLD</td>\n",
              "      <td>US</td>\n",
              "      <td>0</td>\n",
              "    </tr>\n",
              "    <tr>\n",
              "      <th>2</th>\n",
              "      <td>facebook.com</td>\n",
              "      <td>3</td>\n",
              "      <td>com</td>\n",
              "      <td>gTLD</td>\n",
              "      <td>US</td>\n",
              "      <td>0</td>\n",
              "    </tr>\n",
              "    <tr>\n",
              "      <th>3</th>\n",
              "      <td>microsoft.com</td>\n",
              "      <td>4</td>\n",
              "      <td>com</td>\n",
              "      <td>gTLD</td>\n",
              "      <td>US</td>\n",
              "      <td>0</td>\n",
              "    </tr>\n",
              "    <tr>\n",
              "      <th>4</th>\n",
              "      <td>twitter.com</td>\n",
              "      <td>5</td>\n",
              "      <td>com</td>\n",
              "      <td>gTLD</td>\n",
              "      <td>US</td>\n",
              "      <td>0</td>\n",
              "    </tr>\n",
              "  </tbody>\n",
              "</table>\n",
              "</div>"
            ],
            "text/plain": [
              "            site  rank  tld tld_type country  delv_result\n",
              "0     google.com     1  com     gTLD      US            0\n",
              "1    youtube.com     2  com     gTLD      US            0\n",
              "2   facebook.com     3  com     gTLD      US            0\n",
              "3  microsoft.com     4  com     gTLD      US            0\n",
              "4    twitter.com     5  com     gTLD      US            0"
            ]
          },
          "metadata": {
            "tags": []
          },
          "execution_count": 95
        }
      ]
    },
    {
      "cell_type": "code",
      "metadata": {
        "id": "Qyh13Zj9DdhB"
      },
      "source": [
        "def isValid(r):\n",
        "  if r == 1:\n",
        "    return 1\n",
        "  return 0\n",
        "\n",
        "mega['is_valid'] = mega['delv_result'].map(isValid)"
      ],
      "execution_count": 96,
      "outputs": []
    },
    {
      "cell_type": "code",
      "metadata": {
        "colab": {
          "base_uri": "https://localhost:8080/",
          "height": 195
        },
        "id": "i5sabk1cH4Qw",
        "outputId": "cf988653-2d3b-4ddd-8397-35d55c74ce0a"
      },
      "source": [
        "mega.head()"
      ],
      "execution_count": 97,
      "outputs": [
        {
          "output_type": "execute_result",
          "data": {
            "text/html": [
              "<div>\n",
              "<style scoped>\n",
              "    .dataframe tbody tr th:only-of-type {\n",
              "        vertical-align: middle;\n",
              "    }\n",
              "\n",
              "    .dataframe tbody tr th {\n",
              "        vertical-align: top;\n",
              "    }\n",
              "\n",
              "    .dataframe thead th {\n",
              "        text-align: right;\n",
              "    }\n",
              "</style>\n",
              "<table border=\"1\" class=\"dataframe\">\n",
              "  <thead>\n",
              "    <tr style=\"text-align: right;\">\n",
              "      <th></th>\n",
              "      <th>site</th>\n",
              "      <th>rank</th>\n",
              "      <th>tld</th>\n",
              "      <th>tld_type</th>\n",
              "      <th>country</th>\n",
              "      <th>delv_result</th>\n",
              "      <th>is_valid</th>\n",
              "    </tr>\n",
              "  </thead>\n",
              "  <tbody>\n",
              "    <tr>\n",
              "      <th>0</th>\n",
              "      <td>google.com</td>\n",
              "      <td>1</td>\n",
              "      <td>com</td>\n",
              "      <td>gTLD</td>\n",
              "      <td>US</td>\n",
              "      <td>0</td>\n",
              "      <td>0</td>\n",
              "    </tr>\n",
              "    <tr>\n",
              "      <th>1</th>\n",
              "      <td>youtube.com</td>\n",
              "      <td>2</td>\n",
              "      <td>com</td>\n",
              "      <td>gTLD</td>\n",
              "      <td>US</td>\n",
              "      <td>0</td>\n",
              "      <td>0</td>\n",
              "    </tr>\n",
              "    <tr>\n",
              "      <th>2</th>\n",
              "      <td>facebook.com</td>\n",
              "      <td>3</td>\n",
              "      <td>com</td>\n",
              "      <td>gTLD</td>\n",
              "      <td>US</td>\n",
              "      <td>0</td>\n",
              "      <td>0</td>\n",
              "    </tr>\n",
              "    <tr>\n",
              "      <th>3</th>\n",
              "      <td>microsoft.com</td>\n",
              "      <td>4</td>\n",
              "      <td>com</td>\n",
              "      <td>gTLD</td>\n",
              "      <td>US</td>\n",
              "      <td>0</td>\n",
              "      <td>0</td>\n",
              "    </tr>\n",
              "    <tr>\n",
              "      <th>4</th>\n",
              "      <td>twitter.com</td>\n",
              "      <td>5</td>\n",
              "      <td>com</td>\n",
              "      <td>gTLD</td>\n",
              "      <td>US</td>\n",
              "      <td>0</td>\n",
              "      <td>0</td>\n",
              "    </tr>\n",
              "  </tbody>\n",
              "</table>\n",
              "</div>"
            ],
            "text/plain": [
              "            site  rank  tld tld_type country  delv_result  is_valid\n",
              "0     google.com     1  com     gTLD      US            0         0\n",
              "1    youtube.com     2  com     gTLD      US            0         0\n",
              "2   facebook.com     3  com     gTLD      US            0         0\n",
              "3  microsoft.com     4  com     gTLD      US            0         0\n",
              "4    twitter.com     5  com     gTLD      US            0         0"
            ]
          },
          "metadata": {
            "tags": []
          },
          "execution_count": 97
        }
      ]
    },
    {
      "cell_type": "code",
      "metadata": {
        "colab": {
          "base_uri": "https://localhost:8080/"
        },
        "id": "us3g8nQsQcmg",
        "outputId": "7e751ee6-db52-4f86-d6c3-433572fa6cd1"
      },
      "source": [
        "# Get the 30 most popular TLDs\n",
        "thirty_pop_TLDs = mega.groupby('tld').count().sort_values(by='site', ascending=False).head(25).index.to_list()\n",
        "thirty_pop_TLDs"
      ],
      "execution_count": 102,
      "outputs": [
        {
          "output_type": "execute_result",
          "data": {
            "text/plain": [
              "['com',\n",
              " 'org',\n",
              " 'net',\n",
              " 'ru',\n",
              " 'de',\n",
              " 'uk',\n",
              " 'cn',\n",
              " 'jp',\n",
              " 'in',\n",
              " 'nl',\n",
              " 'br',\n",
              " 'fr',\n",
              " 'it',\n",
              " 'info',\n",
              " 'au',\n",
              " 'co',\n",
              " 'pl',\n",
              " 'ca',\n",
              " 'io',\n",
              " 'us',\n",
              " 'vn',\n",
              " 'ir',\n",
              " 'es',\n",
              " 'eu',\n",
              " 'ua']"
            ]
          },
          "metadata": {
            "tags": []
          },
          "execution_count": 102
        }
      ]
    },
    {
      "cell_type": "code",
      "metadata": {
        "id": "C-LY9n3h_FAa"
      },
      "source": [
        "total_tlds = mega.groupby('tld').is_valid.sum()"
      ],
      "execution_count": 103,
      "outputs": []
    },
    {
      "cell_type": "code",
      "metadata": {
        "id": "JouckBH__KBy"
      },
      "source": [
        "dnssec_tlds = mega.groupby('tld').site.count()"
      ],
      "execution_count": 104,
      "outputs": []
    },
    {
      "cell_type": "code",
      "metadata": {
        "colab": {
          "base_uri": "https://localhost:8080/",
          "height": 295
        },
        "id": "5VPqGHLMLfcZ",
        "outputId": "2e8b3324-45b6-4ba4-d7b9-6bafc0ff23e7"
      },
      "source": [
        "# Top 30 TLDs and % of DNSSEC supported\n",
        "import matplotlib.ticker as mtick\n",
        "\n",
        "ax = (total_tlds / dnssec_tlds).loc[thirty_pop_TLDs[::-1]]\n",
        "ax.plot(kind=\"barh\")\n",
        "plt.title(\"Percentage of DNSSEC support for 25 most popular TLDs\")\n",
        "plt.ylabel(\"Top-level Domain\")\n",
        "plt.xlabel(\"Percent of DNSSEC support [0,1]\")\n",
        "plt.savefig('30_domains.png',dpi=100)\n",
        "files.download('30_domains.png')"
      ],
      "execution_count": 147,
      "outputs": [
        {
          "output_type": "display_data",
          "data": {
            "application/javascript": [
              "\n",
              "    async function download(id, filename, size) {\n",
              "      if (!google.colab.kernel.accessAllowed) {\n",
              "        return;\n",
              "      }\n",
              "      const div = document.createElement('div');\n",
              "      const label = document.createElement('label');\n",
              "      label.textContent = `Downloading \"${filename}\": `;\n",
              "      div.appendChild(label);\n",
              "      const progress = document.createElement('progress');\n",
              "      progress.max = size;\n",
              "      div.appendChild(progress);\n",
              "      document.body.appendChild(div);\n",
              "\n",
              "      const buffers = [];\n",
              "      let downloaded = 0;\n",
              "\n",
              "      const channel = await google.colab.kernel.comms.open(id);\n",
              "      // Send a message to notify the kernel that we're ready.\n",
              "      channel.send({})\n",
              "\n",
              "      for await (const message of channel.messages) {\n",
              "        // Send a message to notify the kernel that we're ready.\n",
              "        channel.send({})\n",
              "        if (message.buffers) {\n",
              "          for (const buffer of message.buffers) {\n",
              "            buffers.push(buffer);\n",
              "            downloaded += buffer.byteLength;\n",
              "            progress.value = downloaded;\n",
              "          }\n",
              "        }\n",
              "      }\n",
              "      const blob = new Blob(buffers, {type: 'application/binary'});\n",
              "      const a = document.createElement('a');\n",
              "      a.href = window.URL.createObjectURL(blob);\n",
              "      a.download = filename;\n",
              "      div.appendChild(a);\n",
              "      a.click();\n",
              "      div.remove();\n",
              "    }\n",
              "  "
            ],
            "text/plain": [
              "<IPython.core.display.Javascript object>"
            ]
          },
          "metadata": {
            "tags": []
          }
        },
        {
          "output_type": "display_data",
          "data": {
            "application/javascript": [
              "download(\"download_bbd6df9b-67e2-4559-954d-0f8e2cea1c94\", \"30_domains.png\", 26483)"
            ],
            "text/plain": [
              "<IPython.core.display.Javascript object>"
            ]
          },
          "metadata": {
            "tags": []
          }
        },
        {
          "output_type": "display_data",
          "data": {
            "image/png": "[encoded data removed]",
            "text/plain": [
              "<Figure size 432x288 with 1 Axes>"
            ]
          },
          "metadata": {
            "tags": [],
            "needs_background": "light"
          }
        }
      ]
    },
    {
      "cell_type": "code",
      "metadata": {
        "id": "nJlvtqV8M_rX"
      },
      "source": [
        "# Country heatmap based on DNSSEC and whois queries\n",
        "country_results = pd.read_csv('MASTER_RESULTS.csv')\n",
        "\n",
        "def isValid(r):\n",
        "  if r == 1:\n",
        "    return 1\n",
        "  return 0\n",
        "\n",
        "country_results['is_valid'] = country_results['delv_result'].map(isValid)\n",
        "\n",
        "country_results.dropna(inplace=True)"
      ],
      "execution_count": 106,
      "outputs": []
    },
    {
      "cell_type": "code",
      "metadata": {
        "colab": {
          "base_uri": "https://localhost:8080/",
          "height": 195
        },
        "id": "Lg19AabvYLGU",
        "outputId": "85e619f4-1d32-4986-b68c-57079435a672"
      },
      "source": [
        "country_dnssec = country_results.groupby('country').sum('is_valid').is_valid.to_frame()\n",
        "country_dnssec.reset_index(inplace=True)\n",
        "country_dnssec.head()"
      ],
      "execution_count": 107,
      "outputs": [
        {
          "output_type": "execute_result",
          "data": {
            "text/html": [
              "<div>\n",
              "<style scoped>\n",
              "    .dataframe tbody tr th:only-of-type {\n",
              "        vertical-align: middle;\n",
              "    }\n",
              "\n",
              "    .dataframe tbody tr th {\n",
              "        vertical-align: top;\n",
              "    }\n",
              "\n",
              "    .dataframe thead th {\n",
              "        text-align: right;\n",
              "    }\n",
              "</style>\n",
              "<table border=\"1\" class=\"dataframe\">\n",
              "  <thead>\n",
              "    <tr style=\"text-align: right;\">\n",
              "      <th></th>\n",
              "      <th>country</th>\n",
              "      <th>is_valid</th>\n",
              "    </tr>\n",
              "  </thead>\n",
              "  <tbody>\n",
              "    <tr>\n",
              "      <th>0</th>\n",
              "      <td>AD</td>\n",
              "      <td>3</td>\n",
              "    </tr>\n",
              "    <tr>\n",
              "      <th>1</th>\n",
              "      <td>AE</td>\n",
              "      <td>31</td>\n",
              "    </tr>\n",
              "    <tr>\n",
              "      <th>2</th>\n",
              "      <td>AF</td>\n",
              "      <td>9</td>\n",
              "    </tr>\n",
              "    <tr>\n",
              "      <th>3</th>\n",
              "      <td>AG</td>\n",
              "      <td>5</td>\n",
              "    </tr>\n",
              "    <tr>\n",
              "      <th>4</th>\n",
              "      <td>AI</td>\n",
              "      <td>1</td>\n",
              "    </tr>\n",
              "  </tbody>\n",
              "</table>\n",
              "</div>"
            ],
            "text/plain": [
              "  country  is_valid\n",
              "0      AD         3\n",
              "1      AE        31\n",
              "2      AF         9\n",
              "3      AG         5\n",
              "4      AI         1"
            ]
          },
          "metadata": {
            "tags": []
          },
          "execution_count": 107
        }
      ]
    },
    {
      "cell_type": "code",
      "metadata": {
        "colab": {
          "base_uri": "https://localhost:8080/",
          "height": 402
        },
        "id": "nEGcz8tmZprr",
        "outputId": "3652f0e8-3d20-42c4-8de9-7155c262fcb0"
      },
      "source": [
        "# Convert 2-letter country codes to 3 letters\n",
        "dfcountry = pd.read_csv('countryMap.txt', sep='\\t')\n",
        "country_dnssec = country_dnssec.merge(dfcountry, how='inner',left_on=['country'],right_on=['2let'])\n",
        "country_dnssec"
      ],
      "execution_count": 108,
      "outputs": [
        {
          "output_type": "execute_result",
          "data": {
            "text/html": [
              "<div>\n",
              "<style scoped>\n",
              "    .dataframe tbody tr th:only-of-type {\n",
              "        vertical-align: middle;\n",
              "    }\n",
              "\n",
              "    .dataframe tbody tr th {\n",
              "        vertical-align: top;\n",
              "    }\n",
              "\n",
              "    .dataframe thead th {\n",
              "        text-align: right;\n",
              "    }\n",
              "</style>\n",
              "<table border=\"1\" class=\"dataframe\">\n",
              "  <thead>\n",
              "    <tr style=\"text-align: right;\">\n",
              "      <th></th>\n",
              "      <th>country_x</th>\n",
              "      <th>is_valid</th>\n",
              "      <th>country_y</th>\n",
              "      <th>2let</th>\n",
              "      <th>3let</th>\n",
              "    </tr>\n",
              "  </thead>\n",
              "  <tbody>\n",
              "    <tr>\n",
              "      <th>0</th>\n",
              "      <td>AD</td>\n",
              "      <td>3</td>\n",
              "      <td>Andorra</td>\n",
              "      <td>AD</td>\n",
              "      <td>AND</td>\n",
              "    </tr>\n",
              "    <tr>\n",
              "      <th>1</th>\n",
              "      <td>AE</td>\n",
              "      <td>31</td>\n",
              "      <td>United Arab Emirates</td>\n",
              "      <td>AE</td>\n",
              "      <td>ARE</td>\n",
              "    </tr>\n",
              "    <tr>\n",
              "      <th>2</th>\n",
              "      <td>AF</td>\n",
              "      <td>9</td>\n",
              "      <td>Afghanistan</td>\n",
              "      <td>AF</td>\n",
              "      <td>AFG</td>\n",
              "    </tr>\n",
              "    <tr>\n",
              "      <th>3</th>\n",
              "      <td>AG</td>\n",
              "      <td>5</td>\n",
              "      <td>Antigua and Barbuda</td>\n",
              "      <td>AG</td>\n",
              "      <td>ATG</td>\n",
              "    </tr>\n",
              "    <tr>\n",
              "      <th>4</th>\n",
              "      <td>AI</td>\n",
              "      <td>1</td>\n",
              "      <td>Anguilla</td>\n",
              "      <td>AI</td>\n",
              "      <td>AIA</td>\n",
              "    </tr>\n",
              "    <tr>\n",
              "      <th>...</th>\n",
              "      <td>...</td>\n",
              "      <td>...</td>\n",
              "      <td>...</td>\n",
              "      <td>...</td>\n",
              "      <td>...</td>\n",
              "    </tr>\n",
              "    <tr>\n",
              "      <th>236</th>\n",
              "      <td>YE</td>\n",
              "      <td>5</td>\n",
              "      <td>Yemen</td>\n",
              "      <td>YE</td>\n",
              "      <td>YEM</td>\n",
              "    </tr>\n",
              "    <tr>\n",
              "      <th>237</th>\n",
              "      <td>YT</td>\n",
              "      <td>1</td>\n",
              "      <td>Mayotte</td>\n",
              "      <td>YT</td>\n",
              "      <td>MYT</td>\n",
              "    </tr>\n",
              "    <tr>\n",
              "      <th>238</th>\n",
              "      <td>ZA</td>\n",
              "      <td>31</td>\n",
              "      <td>South Africa</td>\n",
              "      <td>ZA</td>\n",
              "      <td>ZAF</td>\n",
              "    </tr>\n",
              "    <tr>\n",
              "      <th>239</th>\n",
              "      <td>ZM</td>\n",
              "      <td>1</td>\n",
              "      <td>Zambia</td>\n",
              "      <td>ZM</td>\n",
              "      <td>ZMB</td>\n",
              "    </tr>\n",
              "    <tr>\n",
              "      <th>240</th>\n",
              "      <td>ZW</td>\n",
              "      <td>0</td>\n",
              "      <td>Zimbabwe</td>\n",
              "      <td>ZW</td>\n",
              "      <td>ZWE</td>\n",
              "    </tr>\n",
              "  </tbody>\n",
              "</table>\n",
              "<p>241 rows × 5 columns</p>\n",
              "</div>"
            ],
            "text/plain": [
              "    country_x  is_valid             country_y 2let 3let\n",
              "0          AD         3               Andorra   AD  AND\n",
              "1          AE        31  United Arab Emirates   AE  ARE\n",
              "2          AF         9           Afghanistan   AF  AFG\n",
              "3          AG         5   Antigua and Barbuda   AG  ATG\n",
              "4          AI         1              Anguilla   AI  AIA\n",
              "..        ...       ...                   ...  ...  ...\n",
              "236        YE         5                 Yemen   YE  YEM\n",
              "237        YT         1               Mayotte   YT  MYT\n",
              "238        ZA        31          South Africa   ZA  ZAF\n",
              "239        ZM         1                Zambia   ZM  ZMB\n",
              "240        ZW         0              Zimbabwe   ZW  ZWE\n",
              "\n",
              "[241 rows x 5 columns]"
            ]
          },
          "metadata": {
            "tags": []
          },
          "execution_count": 108
        }
      ]
    },
    {
      "cell_type": "code",
      "metadata": {
        "colab": {
          "base_uri": "https://localhost:8080/",
          "height": 17
        },
        "id": "M5QEvLWPWPIE",
        "outputId": "6aac5411-e6bb-4073-f014-e92b9eb6e117"
      },
      "source": [
        "import plotly.express as px\n",
        "\n",
        "fig = px.choropleth(data_frame=country_dnssec, \n",
        "                    locations='3let',\n",
        "                    locationmode='ISO-3',\n",
        "                    color='is_valid',\n",
        "                    scope='world')\n",
        "\n",
        "fig.write_html(\"country-dnssec.html\")\n",
        "files.download(\"country-dnssec.html\")"
      ],
      "execution_count": 148,
      "outputs": [
        {
          "output_type": "display_data",
          "data": {
            "application/javascript": [
              "\n",
              "    async function download(id, filename, size) {\n",
              "      if (!google.colab.kernel.accessAllowed) {\n",
              "        return;\n",
              "      }\n",
              "      const div = document.createElement('div');\n",
              "      const label = document.createElement('label');\n",
              "      label.textContent = `Downloading \"${filename}\": `;\n",
              "      div.appendChild(label);\n",
              "      const progress = document.createElement('progress');\n",
              "      progress.max = size;\n",
              "      div.appendChild(progress);\n",
              "      document.body.appendChild(div);\n",
              "\n",
              "      const buffers = [];\n",
              "      let downloaded = 0;\n",
              "\n",
              "      const channel = await google.colab.kernel.comms.open(id);\n",
              "      // Send a message to notify the kernel that we're ready.\n",
              "      channel.send({})\n",
              "\n",
              "      for await (const message of channel.messages) {\n",
              "        // Send a message to notify the kernel that we're ready.\n",
              "        channel.send({})\n",
              "        if (message.buffers) {\n",
              "          for (const buffer of message.buffers) {\n",
              "            buffers.push(buffer);\n",
              "            downloaded += buffer.byteLength;\n",
              "            progress.value = downloaded;\n",
              "          }\n",
              "        }\n",
              "      }\n",
              "      const blob = new Blob(buffers, {type: 'application/binary'});\n",
              "      const a = document.createElement('a');\n",
              "      a.href = window.URL.createObjectURL(blob);\n",
              "      a.download = filename;\n",
              "      div.appendChild(a);\n",
              "      a.click();\n",
              "      div.remove();\n",
              "    }\n",
              "  "
            ],
            "text/plain": [
              "<IPython.core.display.Javascript object>"
            ]
          },
          "metadata": {
            "tags": []
          }
        },
        {
          "output_type": "display_data",
          "data": {
            "application/javascript": [
              "download(\"download_bf20150a-76e3-48c9-ad3b-aacb9c3b41c7\", \"country-dnssec.html\", 3297116)"
            ],
            "text/plain": [
              "<IPython.core.display.Javascript object>"
            ]
          },
          "metadata": {
            "tags": []
          }
        }
      ]
    },
    {
      "cell_type": "code",
      "metadata": {
        "colab": {
          "base_uri": "https://localhost:8080/",
          "height": 542
        },
        "id": "FeQsnSqSYsbz",
        "outputId": "9c878e82-7c24-42db-b6fc-33737ab6b06e"
      },
      "source": [
        "fig"
      ],
      "execution_count": 111,
      "outputs": [
        {
          "output_type": "display_data",
          "data": {
            "text/html": [
              "<html>\n",
              "<head><meta charset=\"utf-8\" /></head>\n",
              "<body>\n",
              "    <div>\n",
              "            <script src=\"https://cdnjs.cloudflare.com/ajax/libs/mathjax/2.7.5/MathJax.js?config=TeX-AMS-MML_SVG\"></script><script type=\"text/javascript\">if (window.MathJax) {MathJax.Hub.Config({SVG: {font: \"STIX-Web\"}});}</script>\n",
              "                <script type=\"text/javascript\">window.PlotlyConfig = {MathJaxConfig: 'local'};</script>\n",
              "        <script src=\"https://cdn.plot.ly/plotly-latest.min.js\"></script>    \n",
              "            <div id=\"83959099-8c08-4929-a524-83c8bae9eeff\" class=\"plotly-graph-div\" style=\"height:525px; width:100%;\"></div>\n",
              "            <script type=\"text/javascript\">\n",
              "                \n",
              "                    window.PLOTLYENV=window.PLOTLYENV || {};\n",
              "                    \n",
              "                if (document.getElementById(\"83959099-8c08-4929-a524-83c8bae9eeff\")) {\n",
              "                    Plotly.newPlot(\n",
              "                        '83959099-8c08-4929-a524-83c8bae9eeff',\n",
              "                        [{\"coloraxis\": \"coloraxis\", \"geo\": \"geo\", \"hoverlabel\": {\"namelength\": 0}, \"hovertemplate\": \"3let=%{location}<br>is_valid=%{z}\", \"locationmode\": \"ISO-3\", \"locations\": [\"AND\", \"ARE\", \"AFG\", \"ATG\", \"AIA\", \"ALB\", \"ARM\", \"AGO\", \"ATA\", \"ARG\", \"ASM\", \"AUT\", \"AUS\", \"ABW\", \"ALA\", \"AZE\", \"BIH\", \"BRB\", \"BGD\", \"BEL\", \"BFA\", \"BGR\", \"BHR\", \"BDI\", \"BEN\", \"BMU\", \"BRN\", \"BOL\", \"BRA\", \"BHS\", \"BTN\", \"BVT\", \"BWA\", \"BLR\", \"BLZ\", \"CAN\", \"CCK\", \"COD\", \"CAF\", \"COG\", \"CHE\", \"CIV\", \"COK\", \"CHL\", \"CMR\", \"CHN\", \"COL\", \"CRI\", \"CUB\", \"CPV\", \"CXR\", \"CYP\", \"CZE\", \"DEU\", \"DJI\", \"DNK\", \"DMA\", \"DOM\", \"DZA\", \"ECU\", \"EST\", \"EGY\", \"ERI\", \"ESP\", \"ETH\", \"FIN\", \"FJI\", \"FLK\", \"FSM\", \"FRO\", \"FRA\", \"GAB\", \"GBR\", \"GRD\", \"GEO\", \"GUF\", \"GGY\", \"GHA\", \"GIB\", \"GRL\", \"GMB\", \"GIN\", \"GLP\", \"GNQ\", \"GRC\", \"SGS\", \"GTM\", \"GUM\", \"GNB\", \"GUY\", \"HKG\", \"HMD\", \"HND\", \"HRV\", \"HTI\", \"HUN\", \"IDN\", \"IRL\", \"ISR\", \"IMN\", \"IND\", \"IOT\", \"IRQ\", \"IRN\", \"ISL\", \"ITA\", \"JEY\", \"JAM\", \"JOR\", \"JPN\", \"KEN\", \"KGZ\", \"KHM\", \"KIR\", \"COM\", \"KNA\", \"PRK\", \"KOR\", \"KWT\", \"CYM\", \"KAZ\", \"LAO\", \"LBN\", \"LCA\", \"LIE\", \"LKA\", \"LBR\", \"LSO\", \"LTU\", \"LUX\", \"LVA\", \"LBY\", \"MAR\", \"MCO\", \"MDA\", \"MNE\", \"MAF\", \"MDG\", \"MHL\", \"MKD\", \"MLI\", \"MMR\", \"MNG\", \"MAC\", \"MNP\", \"MTQ\", \"MRT\", \"MSR\", \"MLT\", \"MUS\", \"MDV\", \"MWI\", \"MEX\", \"MYS\", \"MOZ\", \"NCL\", \"NER\", \"NFK\", \"NGA\", \"NIC\", \"NLD\", \"NOR\", \"NPL\", \"NRU\", \"NIU\", \"NZL\", \"OMN\", \"PAN\", \"PER\", \"PYF\", \"PNG\", \"PHL\", \"PAK\", \"POL\", \"SPM\", \"PCN\", \"PRI\", \"PSE\", \"PRT\", \"PLW\", \"PRY\", \"QAT\", \"REU\", \"ROU\", \"SRB\", \"RUS\", \"RWA\", \"SAU\", \"SLB\", \"SYC\", \"SDN\", \"SWE\", \"SGP\", \"SHN\", \"SVN\", \"SVK\", \"SLE\", \"SMR\", \"SEN\", \"SOM\", \"SUR\", \"STP\", \"SLV\", \"SYR\", \"SWZ\", \"TCA\", \"TCD\", \"ATF\", \"TGO\", \"THA\", \"TJK\", \"TKL\", \"TLS\", \"TKM\", \"TUN\", \"TON\", \"TUR\", \"TTO\", \"TUV\", \"TWN\", \"TZA\", \"UKR\", \"UGA\", \"UMI\", \"USA\", \"URY\", \"UZB\", \"VAT\", \"VCT\", \"VEN\", \"VGB\", \"VIR\", \"VNM\", \"VUT\", \"WLF\", \"WSM\", \"YEM\", \"MYT\", \"ZAF\", \"ZMB\", \"ZWE\"], \"name\": \"\", \"type\": \"choropleth\", \"z\": [3, 31, 9, 5, 1, 2, 19, 3, 0, 68, 0, 105, 227, 0, 0, 11, 28, 1, 31, 465, 3, 42, 0, 0, 5, 3, 3, 2, 1138, 71, 2, 0, 4, 27, 5, 1266, 50, 4, 0, 1, 386, 10, 0, 49, 8, 1694, 289, 15, 0, 0, 4, 45, 2043, 830, 0, 524, 0, 1, 14, 3, 97, 25, 0, 303, 1, 89, 0, 0, 10, 0, 2265, 2, 357, 1, 1, 0, 9, 8, 1, 0, 0, 4, 1, 2, 64, 2, 1, 0, 1, 1, 265, 0, 2, 12, 0, 335, 184, 138, 25, 1, 838, 32, 6, 10, 375, 173, 2, 0, 3, 707, 25, 4, 5, 0, 0, 3, 0, 110, 5, 22, 5, 10, 3, 0, 14, 66, 0, 0, 12, 32, 46, 0, 23, 4, 11, 13, 0, 0, 10, 1, 2, 0, 9, 1, 1, 1, 1, 0, 14, 1, 0, 2, 102, 219, 0, 5, 2, 0, 17, 1, 5670, 724, 4, 0, 59, 83, 1, 88, 21, 0, 0, 8, 38, 918, 3, 0, 0, 0, 110, 19, 1, 1, 14, 126, 14, 4351, 1, 29, 2, 11, 0, 1024, 215, 2, 17, 316, 1, 1, 17, 2, 0, 0, 0, 0, 0, 3, 0, 3, 0, 187, 0, 1, 0, 3, 67, 0, 70, 6, 48, 207, 45, 222, 7, 1, 3736, 6, 2, 0, 3, 23, 7, 1, 190, 3, 0, 4, 5, 1, 31, 1, 0]}],\n",
              "                        {\"coloraxis\": {\"colorbar\": {\"title\": {\"text\": \"is_valid\"}}, \"colorscale\": [[0.0, \"#0d0887\"], [0.1111111111111111, \"#46039f\"], [0.2222222222222222, \"#7201a8\"], [0.3333333333333333, \"#9c179e\"], [0.4444444444444444, \"#bd3786\"], [0.5555555555555556, \"#d8576b\"], [0.6666666666666666, \"#ed7953\"], [0.7777777777777778, \"#fb9f3a\"], [0.8888888888888888, \"#fdca26\"], [1.0, \"#f0f921\"]]}, \"geo\": {\"center\": {}, \"domain\": {\"x\": [0.0, 1.0], \"y\": [0.0, 1.0]}, \"scope\": \"world\"}, \"legend\": {\"tracegroupgap\": 0}, \"margin\": {\"t\": 60}, \"template\": {\"data\": {\"bar\": [{\"error_x\": {\"color\": \"#2a3f5f\"}, \"error_y\": {\"color\": \"#2a3f5f\"}, \"marker\": {\"line\": {\"color\": \"#E5ECF6\", \"width\": 0.5}}, \"type\": \"bar\"}], \"barpolar\": [{\"marker\": {\"line\": {\"color\": \"#E5ECF6\", \"width\": 0.5}}, \"type\": \"barpolar\"}], \"carpet\": [{\"aaxis\": {\"endlinecolor\": \"#2a3f5f\", \"gridcolor\": \"white\", \"linecolor\": \"white\", \"minorgridcolor\": \"white\", \"startlinecolor\": \"#2a3f5f\"}, \"baxis\": {\"endlinecolor\": \"#2a3f5f\", \"gridcolor\": \"white\", \"linecolor\": \"white\", \"minorgridcolor\": \"white\", \"startlinecolor\": \"#2a3f5f\"}, \"type\": \"carpet\"}], \"choropleth\": [{\"colorbar\": {\"outlinewidth\": 0, \"ticks\": \"\"}, \"type\": \"choropleth\"}], \"contour\": [{\"colorbar\": {\"outlinewidth\": 0, \"ticks\": \"\"}, \"colorscale\": [[0.0, \"#0d0887\"], [0.1111111111111111, \"#46039f\"], [0.2222222222222222, \"#7201a8\"], [0.3333333333333333, \"#9c179e\"], [0.4444444444444444, \"#bd3786\"], [0.5555555555555556, \"#d8576b\"], [0.6666666666666666, \"#ed7953\"], [0.7777777777777778, \"#fb9f3a\"], [0.8888888888888888, \"#fdca26\"], [1.0, \"#f0f921\"]], \"type\": \"contour\"}], \"contourcarpet\": [{\"colorbar\": {\"outlinewidth\": 0, \"ticks\": \"\"}, \"type\": \"contourcarpet\"}], \"heatmap\": [{\"colorbar\": {\"outlinewidth\": 0, \"ticks\": \"\"}, \"colorscale\": [[0.0, \"#0d0887\"], [0.1111111111111111, \"#46039f\"], [0.2222222222222222, \"#7201a8\"], [0.3333333333333333, \"#9c179e\"], [0.4444444444444444, \"#bd3786\"], [0.5555555555555556, \"#d8576b\"], [0.6666666666666666, \"#ed7953\"], [0.7777777777777778, \"#fb9f3a\"], [0.8888888888888888, \"#fdca26\"], [1.0, \"#f0f921\"]], \"type\": \"heatmap\"}], \"heatmapgl\": [{\"colorbar\": {\"outlinewidth\": 0, \"ticks\": \"\"}, \"colorscale\": [[0.0, \"#0d0887\"], [0.1111111111111111, \"#46039f\"], [0.2222222222222222, \"#7201a8\"], [0.3333333333333333, \"#9c179e\"], [0.4444444444444444, \"#bd3786\"], [0.5555555555555556, \"#d8576b\"], [0.6666666666666666, \"#ed7953\"], [0.7777777777777778, \"#fb9f3a\"], [0.8888888888888888, \"#fdca26\"], [1.0, \"#f0f921\"]], \"type\": \"heatmapgl\"}], \"histogram\": [{\"marker\": {\"colorbar\": {\"outlinewidth\": 0, \"ticks\": \"\"}}, \"type\": \"histogram\"}], \"histogram2d\": [{\"colorbar\": {\"outlinewidth\": 0, \"ticks\": \"\"}, \"colorscale\": [[0.0, \"#0d0887\"], [0.1111111111111111, \"#46039f\"], [0.2222222222222222, \"#7201a8\"], [0.3333333333333333, \"#9c179e\"], [0.4444444444444444, \"#bd3786\"], [0.5555555555555556, \"#d8576b\"], [0.6666666666666666, \"#ed7953\"], [0.7777777777777778, \"#fb9f3a\"], [0.8888888888888888, \"#fdca26\"], [1.0, \"#f0f921\"]], \"type\": \"histogram2d\"}], \"histogram2dcontour\": [{\"colorbar\": {\"outlinewidth\": 0, \"ticks\": \"\"}, \"colorscale\": [[0.0, \"#0d0887\"], [0.1111111111111111, \"#46039f\"], [0.2222222222222222, \"#7201a8\"], [0.3333333333333333, \"#9c179e\"], [0.4444444444444444, \"#bd3786\"], [0.5555555555555556, \"#d8576b\"], [0.6666666666666666, \"#ed7953\"], [0.7777777777777778, \"#fb9f3a\"], [0.8888888888888888, \"#fdca26\"], [1.0, \"#f0f921\"]], \"type\": \"histogram2dcontour\"}], \"mesh3d\": [{\"colorbar\": {\"outlinewidth\": 0, \"ticks\": \"\"}, \"type\": \"mesh3d\"}], \"parcoords\": [{\"line\": {\"colorbar\": {\"outlinewidth\": 0, \"ticks\": \"\"}}, \"type\": \"parcoords\"}], \"pie\": [{\"automargin\": true, \"type\": \"pie\"}], \"scatter\": [{\"marker\": {\"colorbar\": {\"outlinewidth\": 0, \"ticks\": \"\"}}, \"type\": \"scatter\"}], \"scatter3d\": [{\"line\": {\"colorbar\": {\"outlinewidth\": 0, \"ticks\": \"\"}}, \"marker\": {\"colorbar\": {\"outlinewidth\": 0, \"ticks\": \"\"}}, \"type\": \"scatter3d\"}], \"scattercarpet\": [{\"marker\": {\"colorbar\": {\"outlinewidth\": 0, \"ticks\": \"\"}}, \"type\": \"scattercarpet\"}], \"scattergeo\": [{\"marker\": {\"colorbar\": {\"outlinewidth\": 0, \"ticks\": \"\"}}, \"type\": \"scattergeo\"}], \"scattergl\": [{\"marker\": {\"colorbar\": {\"outlinewidth\": 0, \"ticks\": \"\"}}, \"type\": \"scattergl\"}], \"scattermapbox\": [{\"marker\": {\"colorbar\": {\"outlinewidth\": 0, \"ticks\": \"\"}}, \"type\": \"scattermapbox\"}], \"scatterpolar\": [{\"marker\": {\"colorbar\": {\"outlinewidth\": 0, \"ticks\": \"\"}}, \"type\": \"scatterpolar\"}], \"scatterpolargl\": [{\"marker\": {\"colorbar\": {\"outlinewidth\": 0, \"ticks\": \"\"}}, \"type\": \"scatterpolargl\"}], \"scatterternary\": [{\"marker\": {\"colorbar\": {\"outlinewidth\": 0, \"ticks\": \"\"}}, \"type\": \"scatterternary\"}], \"surface\": [{\"colorbar\": {\"outlinewidth\": 0, \"ticks\": \"\"}, \"colorscale\": [[0.0, \"#0d0887\"], [0.1111111111111111, \"#46039f\"], [0.2222222222222222, \"#7201a8\"], [0.3333333333333333, \"#9c179e\"], [0.4444444444444444, \"#bd3786\"], [0.5555555555555556, \"#d8576b\"], [0.6666666666666666, \"#ed7953\"], [0.7777777777777778, \"#fb9f3a\"], [0.8888888888888888, \"#fdca26\"], [1.0, \"#f0f921\"]], \"type\": \"surface\"}], \"table\": [{\"cells\": {\"fill\": {\"color\": \"#EBF0F8\"}, \"line\": {\"color\": \"white\"}}, \"header\": {\"fill\": {\"color\": \"#C8D4E3\"}, \"line\": {\"color\": \"white\"}}, \"type\": \"table\"}]}, \"layout\": {\"annotationdefaults\": {\"arrowcolor\": \"#2a3f5f\", \"arrowhead\": 0, \"arrowwidth\": 1}, \"coloraxis\": {\"colorbar\": {\"outlinewidth\": 0, \"ticks\": \"\"}}, \"colorscale\": {\"diverging\": [[0, \"#8e0152\"], [0.1, \"#c51b7d\"], [0.2, \"#de77ae\"], [0.3, \"#f1b6da\"], [0.4, \"#fde0ef\"], [0.5, \"#f7f7f7\"], [0.6, \"#e6f5d0\"], [0.7, \"#b8e186\"], [0.8, \"#7fbc41\"], [0.9, \"#4d9221\"], [1, \"#276419\"]], \"sequential\": [[0.0, \"#0d0887\"], [0.1111111111111111, \"#46039f\"], [0.2222222222222222, \"#7201a8\"], [0.3333333333333333, \"#9c179e\"], [0.4444444444444444, \"#bd3786\"], [0.5555555555555556, \"#d8576b\"], [0.6666666666666666, \"#ed7953\"], [0.7777777777777778, \"#fb9f3a\"], [0.8888888888888888, \"#fdca26\"], [1.0, \"#f0f921\"]], \"sequentialminus\": [[0.0, \"#0d0887\"], [0.1111111111111111, \"#46039f\"], [0.2222222222222222, \"#7201a8\"], [0.3333333333333333, \"#9c179e\"], [0.4444444444444444, \"#bd3786\"], [0.5555555555555556, \"#d8576b\"], [0.6666666666666666, \"#ed7953\"], [0.7777777777777778, \"#fb9f3a\"], [0.8888888888888888, \"#fdca26\"], [1.0, \"#f0f921\"]]}, \"colorway\": [\"#636efa\", \"#EF553B\", \"#00cc96\", \"#ab63fa\", \"#FFA15A\", \"#19d3f3\", \"#FF6692\", \"#B6E880\", \"#FF97FF\", \"#FECB52\"], \"font\": {\"color\": \"#2a3f5f\"}, \"geo\": {\"bgcolor\": \"white\", \"lakecolor\": \"white\", \"landcolor\": \"#E5ECF6\", \"showlakes\": true, \"showland\": true, \"subunitcolor\": \"white\"}, \"hoverlabel\": {\"align\": \"left\"}, \"hovermode\": \"closest\", \"mapbox\": {\"style\": \"light\"}, \"paper_bgcolor\": \"white\", \"plot_bgcolor\": \"#E5ECF6\", \"polar\": {\"angularaxis\": {\"gridcolor\": \"white\", \"linecolor\": \"white\", \"ticks\": \"\"}, \"bgcolor\": \"#E5ECF6\", \"radialaxis\": {\"gridcolor\": \"white\", \"linecolor\": \"white\", \"ticks\": \"\"}}, \"scene\": {\"xaxis\": {\"backgroundcolor\": \"#E5ECF6\", \"gridcolor\": \"white\", \"gridwidth\": 2, \"linecolor\": \"white\", \"showbackground\": true, \"ticks\": \"\", \"zerolinecolor\": \"white\"}, \"yaxis\": {\"backgroundcolor\": \"#E5ECF6\", \"gridcolor\": \"white\", \"gridwidth\": 2, \"linecolor\": \"white\", \"showbackground\": true, \"ticks\": \"\", \"zerolinecolor\": \"white\"}, \"zaxis\": {\"backgroundcolor\": \"#E5ECF6\", \"gridcolor\": \"white\", \"gridwidth\": 2, \"linecolor\": \"white\", \"showbackground\": true, \"ticks\": \"\", \"zerolinecolor\": \"white\"}}, \"shapedefaults\": {\"line\": {\"color\": \"#2a3f5f\"}}, \"ternary\": {\"aaxis\": {\"gridcolor\": \"white\", \"linecolor\": \"white\", \"ticks\": \"\"}, \"baxis\": {\"gridcolor\": \"white\", \"linecolor\": \"white\", \"ticks\": \"\"}, \"bgcolor\": \"#E5ECF6\", \"caxis\": {\"gridcolor\": \"white\", \"linecolor\": \"white\", \"ticks\": \"\"}}, \"title\": {\"x\": 0.05}, \"xaxis\": {\"automargin\": true, \"gridcolor\": \"white\", \"linecolor\": \"white\", \"ticks\": \"\", \"title\": {\"standoff\": 15}, \"zerolinecolor\": \"white\", \"zerolinewidth\": 2}, \"yaxis\": {\"automargin\": true, \"gridcolor\": \"white\", \"linecolor\": \"white\", \"ticks\": \"\", \"title\": {\"standoff\": 15}, \"zerolinecolor\": \"white\", \"zerolinewidth\": 2}}}},\n",
              "                        {\"responsive\": true}\n",
              "                    ).then(function(){\n",
              "                            \n",
              "var gd = document.getElementById('83959099-8c08-4929-a524-83c8bae9eeff');\n",
              "var x = new MutationObserver(function (mutations, observer) {{\n",
              "        var display = window.getComputedStyle(gd).display;\n",
              "        if (!display || display === 'none') {{\n",
              "            console.log([gd, 'removed!']);\n",
              "            Plotly.purge(gd);\n",
              "            observer.disconnect();\n",
              "        }}\n",
              "}});\n",
              "\n",
              "// Listen for the removal of the full notebook cells\n",
              "var notebookContainer = gd.closest('#notebook-container');\n",
              "if (notebookContainer) {{\n",
              "    x.observe(notebookContainer, {childList: true});\n",
              "}}\n",
              "\n",
              "// Listen for the clearing of the current output cell\n",
              "var outputEl = gd.closest('.output');\n",
              "if (outputEl) {{\n",
              "    x.observe(outputEl, {childList: true});\n",
              "}}\n",
              "\n",
              "                        })\n",
              "                };\n",
              "                \n",
              "            </script>\n",
              "        </div>\n",
              "</body>\n",
              "</html>"
            ]
          },
          "metadata": {
            "tags": []
          }
        }
      ]
    },
    {
      "cell_type": "code",
      "metadata": {
        "id": "KDa9wuSRYvNH"
      },
      "source": [
        "# Similar Web Graph\n",
        "import pandas as pd\n",
        "\n",
        "computer_electronics = pd.read_csv('ComputerElectronicsAndTechnology_Data.csv')\n",
        "computer_electronics['category'] = 'computer_electronics'\n",
        "computer_security = pd.read_csv('ComputerSecurity_Data.csv')\n",
        "computer_security['category'] = 'computer_security'\n",
        "ecommerce = pd.read_csv('E-CommerceAndShopping_Data.csv')\n",
        "ecommerce['category'] = 'ecommerce'\n",
        "finance = pd.read_csv('Finance_Data.csv')\n",
        "finance['category'] = 'finance'\n",
        "health = pd.read_csv('Health_Data.csv')\n",
        "health['category'] = 'health'\n",
        "industry = pd.read_csv('HeavyIndustryAndEngineering_Data.csv')\n",
        "industry['category'] = 'industry'\n",
        "law_and_gov = pd.read_csv('LawAndGov_Data.csv')\n",
        "law_and_gov['category'] = 'law_and_gov'\n",
        "news_and_media = pd.read_csv('NewsAndMedia_Data.csv')\n",
        "news_and_media['category'] = 'news_and_media'\n",
        "education = pd.read_csv('ScienceAndEducation_Data.csv')\n",
        "education['category'] = 'education'\n"
      ],
      "execution_count": 112,
      "outputs": []
    },
    {
      "cell_type": "code",
      "metadata": {
        "id": "sWB2DMNFPxVY",
        "outputId": "6e601850-9c0d-4406-cb35-05d54191c100",
        "colab": {
          "base_uri": "https://localhost:8080/",
          "height": 402
        }
      },
      "source": [
        "dfs = computer_electronics.append([computer_security,ecommerce,finance,health,industry,law_and_gov,news_and_media,education])\n",
        "dfs"
      ],
      "execution_count": 113,
      "outputs": [
        {
          "output_type": "execute_result",
          "data": {
            "text/html": [
              "<div>\n",
              "<style scoped>\n",
              "    .dataframe tbody tr th:only-of-type {\n",
              "        vertical-align: middle;\n",
              "    }\n",
              "\n",
              "    .dataframe tbody tr th {\n",
              "        vertical-align: top;\n",
              "    }\n",
              "\n",
              "    .dataframe thead th {\n",
              "        text-align: right;\n",
              "    }\n",
              "</style>\n",
              "<table border=\"1\" class=\"dataframe\">\n",
              "  <thead>\n",
              "    <tr style=\"text-align: right;\">\n",
              "      <th></th>\n",
              "      <th>site</th>\n",
              "      <th>category_rank</th>\n",
              "      <th>tranco_rank</th>\n",
              "      <th>tld</th>\n",
              "      <th>tld_type</th>\n",
              "      <th>country</th>\n",
              "      <th>delv_result</th>\n",
              "      <th>category</th>\n",
              "    </tr>\n",
              "  </thead>\n",
              "  <tbody>\n",
              "    <tr>\n",
              "      <th>0</th>\n",
              "      <td>google.com</td>\n",
              "      <td>1</td>\n",
              "      <td>1.0</td>\n",
              "      <td>com</td>\n",
              "      <td>gTLD</td>\n",
              "      <td>US</td>\n",
              "      <td>0</td>\n",
              "      <td>computer_electronics</td>\n",
              "    </tr>\n",
              "    <tr>\n",
              "      <th>1</th>\n",
              "      <td>facebook.com</td>\n",
              "      <td>2</td>\n",
              "      <td>3.0</td>\n",
              "      <td>com</td>\n",
              "      <td>gTLD</td>\n",
              "      <td>US</td>\n",
              "      <td>0</td>\n",
              "      <td>computer_electronics</td>\n",
              "    </tr>\n",
              "    <tr>\n",
              "      <th>2</th>\n",
              "      <td>twitter.com</td>\n",
              "      <td>3</td>\n",
              "      <td>5.0</td>\n",
              "      <td>com</td>\n",
              "      <td>gTLD</td>\n",
              "      <td>US</td>\n",
              "      <td>0</td>\n",
              "      <td>computer_electronics</td>\n",
              "    </tr>\n",
              "    <tr>\n",
              "      <th>3</th>\n",
              "      <td>instagram.com</td>\n",
              "      <td>4</td>\n",
              "      <td>7.0</td>\n",
              "      <td>com</td>\n",
              "      <td>gTLD</td>\n",
              "      <td>US</td>\n",
              "      <td>0</td>\n",
              "      <td>computer_electronics</td>\n",
              "    </tr>\n",
              "    <tr>\n",
              "      <th>4</th>\n",
              "      <td>baidu.com</td>\n",
              "      <td>5</td>\n",
              "      <td>9.0</td>\n",
              "      <td>com</td>\n",
              "      <td>gTLD</td>\n",
              "      <td>CN</td>\n",
              "      <td>0</td>\n",
              "      <td>computer_electronics</td>\n",
              "    </tr>\n",
              "    <tr>\n",
              "      <th>...</th>\n",
              "      <td>...</td>\n",
              "      <td>...</td>\n",
              "      <td>...</td>\n",
              "      <td>...</td>\n",
              "      <td>...</td>\n",
              "      <td>...</td>\n",
              "      <td>...</td>\n",
              "      <td>...</td>\n",
              "    </tr>\n",
              "    <tr>\n",
              "      <th>45</th>\n",
              "      <td>toppr.com</td>\n",
              "      <td>46</td>\n",
              "      <td>3741.0</td>\n",
              "      <td>com</td>\n",
              "      <td>gTLD</td>\n",
              "      <td>NaN</td>\n",
              "      <td>0</td>\n",
              "      <td>education</td>\n",
              "    </tr>\n",
              "    <tr>\n",
              "      <th>46</th>\n",
              "      <td>sinoptik.ua</td>\n",
              "      <td>47</td>\n",
              "      <td>5493.0</td>\n",
              "      <td>ua</td>\n",
              "      <td>ccTLD</td>\n",
              "      <td>UA</td>\n",
              "      <td>0</td>\n",
              "      <td>education</td>\n",
              "    </tr>\n",
              "    <tr>\n",
              "      <th>47</th>\n",
              "      <td>unam.mx</td>\n",
              "      <td>48</td>\n",
              "      <td>1906.0</td>\n",
              "      <td>mx</td>\n",
              "      <td>ccTLD</td>\n",
              "      <td>MX</td>\n",
              "      <td>0</td>\n",
              "      <td>education</td>\n",
              "    </tr>\n",
              "    <tr>\n",
              "      <th>48</th>\n",
              "      <td>analyticsapp.ru</td>\n",
              "      <td>49</td>\n",
              "      <td>237210.0</td>\n",
              "      <td>ru</td>\n",
              "      <td>ccTLD</td>\n",
              "      <td>RU</td>\n",
              "      <td>0</td>\n",
              "      <td>education</td>\n",
              "    </tr>\n",
              "    <tr>\n",
              "      <th>49</th>\n",
              "      <td>brainly.com</td>\n",
              "      <td>50</td>\n",
              "      <td>3098.0</td>\n",
              "      <td>com</td>\n",
              "      <td>gTLD</td>\n",
              "      <td>PL</td>\n",
              "      <td>0</td>\n",
              "      <td>education</td>\n",
              "    </tr>\n",
              "  </tbody>\n",
              "</table>\n",
              "<p>450 rows × 8 columns</p>\n",
              "</div>"
            ],
            "text/plain": [
              "               site  category_rank  ...  delv_result              category\n",
              "0        google.com              1  ...            0  computer_electronics\n",
              "1      facebook.com              2  ...            0  computer_electronics\n",
              "2       twitter.com              3  ...            0  computer_electronics\n",
              "3     instagram.com              4  ...            0  computer_electronics\n",
              "4         baidu.com              5  ...            0  computer_electronics\n",
              "..              ...            ...  ...          ...                   ...\n",
              "45        toppr.com             46  ...            0             education\n",
              "46      sinoptik.ua             47  ...            0             education\n",
              "47          unam.mx             48  ...            0             education\n",
              "48  analyticsapp.ru             49  ...            0             education\n",
              "49      brainly.com             50  ...            0             education\n",
              "\n",
              "[450 rows x 8 columns]"
            ]
          },
          "metadata": {
            "tags": []
          },
          "execution_count": 113
        }
      ]
    },
    {
      "cell_type": "code",
      "metadata": {
        "id": "yTKOVmkxRjZ1"
      },
      "source": [
        "def isValid(r):\n",
        "  if r == 1:\n",
        "    return 1\n",
        "  return 0\n",
        "\n",
        "dfs['is_valid'] = dfs['delv_result'].map(isValid)"
      ],
      "execution_count": 114,
      "outputs": []
    },
    {
      "cell_type": "code",
      "metadata": {
        "id": "1oRPyT13SL4T",
        "outputId": "627130df-7956-4bb4-ad4f-f3f51762f85c",
        "colab": {
          "base_uri": "https://localhost:8080/",
          "height": 195
        }
      },
      "source": [
        "dfs.tail()"
      ],
      "execution_count": 115,
      "outputs": [
        {
          "output_type": "execute_result",
          "data": {
            "text/html": [
              "<div>\n",
              "<style scoped>\n",
              "    .dataframe tbody tr th:only-of-type {\n",
              "        vertical-align: middle;\n",
              "    }\n",
              "\n",
              "    .dataframe tbody tr th {\n",
              "        vertical-align: top;\n",
              "    }\n",
              "\n",
              "    .dataframe thead th {\n",
              "        text-align: right;\n",
              "    }\n",
              "</style>\n",
              "<table border=\"1\" class=\"dataframe\">\n",
              "  <thead>\n",
              "    <tr style=\"text-align: right;\">\n",
              "      <th></th>\n",
              "      <th>site</th>\n",
              "      <th>category_rank</th>\n",
              "      <th>tranco_rank</th>\n",
              "      <th>tld</th>\n",
              "      <th>tld_type</th>\n",
              "      <th>country</th>\n",
              "      <th>delv_result</th>\n",
              "      <th>category</th>\n",
              "      <th>is_valid</th>\n",
              "    </tr>\n",
              "  </thead>\n",
              "  <tbody>\n",
              "    <tr>\n",
              "      <th>45</th>\n",
              "      <td>toppr.com</td>\n",
              "      <td>46</td>\n",
              "      <td>3741.0</td>\n",
              "      <td>com</td>\n",
              "      <td>gTLD</td>\n",
              "      <td>NaN</td>\n",
              "      <td>0</td>\n",
              "      <td>education</td>\n",
              "      <td>0</td>\n",
              "    </tr>\n",
              "    <tr>\n",
              "      <th>46</th>\n",
              "      <td>sinoptik.ua</td>\n",
              "      <td>47</td>\n",
              "      <td>5493.0</td>\n",
              "      <td>ua</td>\n",
              "      <td>ccTLD</td>\n",
              "      <td>UA</td>\n",
              "      <td>0</td>\n",
              "      <td>education</td>\n",
              "      <td>0</td>\n",
              "    </tr>\n",
              "    <tr>\n",
              "      <th>47</th>\n",
              "      <td>unam.mx</td>\n",
              "      <td>48</td>\n",
              "      <td>1906.0</td>\n",
              "      <td>mx</td>\n",
              "      <td>ccTLD</td>\n",
              "      <td>MX</td>\n",
              "      <td>0</td>\n",
              "      <td>education</td>\n",
              "      <td>0</td>\n",
              "    </tr>\n",
              "    <tr>\n",
              "      <th>48</th>\n",
              "      <td>analyticsapp.ru</td>\n",
              "      <td>49</td>\n",
              "      <td>237210.0</td>\n",
              "      <td>ru</td>\n",
              "      <td>ccTLD</td>\n",
              "      <td>RU</td>\n",
              "      <td>0</td>\n",
              "      <td>education</td>\n",
              "      <td>0</td>\n",
              "    </tr>\n",
              "    <tr>\n",
              "      <th>49</th>\n",
              "      <td>brainly.com</td>\n",
              "      <td>50</td>\n",
              "      <td>3098.0</td>\n",
              "      <td>com</td>\n",
              "      <td>gTLD</td>\n",
              "      <td>PL</td>\n",
              "      <td>0</td>\n",
              "      <td>education</td>\n",
              "      <td>0</td>\n",
              "    </tr>\n",
              "  </tbody>\n",
              "</table>\n",
              "</div>"
            ],
            "text/plain": [
              "               site  category_rank  ...   category is_valid\n",
              "45        toppr.com             46  ...  education        0\n",
              "46      sinoptik.ua             47  ...  education        0\n",
              "47          unam.mx             48  ...  education        0\n",
              "48  analyticsapp.ru             49  ...  education        0\n",
              "49      brainly.com             50  ...  education        0\n",
              "\n",
              "[5 rows x 9 columns]"
            ]
          },
          "metadata": {
            "tags": []
          },
          "execution_count": 115
        }
      ]
    },
    {
      "cell_type": "code",
      "metadata": {
        "id": "JBryoNGlSMl1",
        "outputId": "b95daf39-ce67-499c-e616-e0c1fd0168fc",
        "colab": {
          "base_uri": "https://localhost:8080/",
          "height": 356
        }
      },
      "source": [
        "dfs.groupby('category').is_valid.sum().plot(kind=\"bar\", rot=35, title=\"DNSSEC adoption per site category\",ylabel=\"Number of sites (out of 50)\")\n",
        "plt.savefig(\"category.png\")\n",
        "files.download(\"category.png\")"
      ],
      "execution_count": 155,
      "outputs": [
        {
          "output_type": "display_data",
          "data": {
            "application/javascript": [
              "\n",
              "    async function download(id, filename, size) {\n",
              "      if (!google.colab.kernel.accessAllowed) {\n",
              "        return;\n",
              "      }\n",
              "      const div = document.createElement('div');\n",
              "      const label = document.createElement('label');\n",
              "      label.textContent = `Downloading \"${filename}\": `;\n",
              "      div.appendChild(label);\n",
              "      const progress = document.createElement('progress');\n",
              "      progress.max = size;\n",
              "      div.appendChild(progress);\n",
              "      document.body.appendChild(div);\n",
              "\n",
              "      const buffers = [];\n",
              "      let downloaded = 0;\n",
              "\n",
              "      const channel = await google.colab.kernel.comms.open(id);\n",
              "      // Send a message to notify the kernel that we're ready.\n",
              "      channel.send({})\n",
              "\n",
              "      for await (const message of channel.messages) {\n",
              "        // Send a message to notify the kernel that we're ready.\n",
              "        channel.send({})\n",
              "        if (message.buffers) {\n",
              "          for (const buffer of message.buffers) {\n",
              "            buffers.push(buffer);\n",
              "            downloaded += buffer.byteLength;\n",
              "            progress.value = downloaded;\n",
              "          }\n",
              "        }\n",
              "      }\n",
              "      const blob = new Blob(buffers, {type: 'application/binary'});\n",
              "      const a = document.createElement('a');\n",
              "      a.href = window.URL.createObjectURL(blob);\n",
              "      a.download = filename;\n",
              "      div.appendChild(a);\n",
              "      a.click();\n",
              "      div.remove();\n",
              "    }\n",
              "  "
            ],
            "text/plain": [
              "<IPython.core.display.Javascript object>"
            ]
          },
          "metadata": {
            "tags": []
          }
        },
        {
          "output_type": "display_data",
          "data": {
            "application/javascript": [
              "download(\"download_13b3837b-95d7-498b-855a-b672a556cc9c\", \"category.png\", 18351)"
            ],
            "text/plain": [
              "<IPython.core.display.Javascript object>"
            ]
          },
          "metadata": {
            "tags": []
          }
        },
        {
          "output_type": "display_data",
          "data": {
            "image/png": "[encoded data removed]",
            "text/plain": [
              "<Figure size 432x288 with 1 Axes>"
            ]
          },
          "metadata": {
            "tags": [],
            "needs_background": "light"
          }
        }
      ]
    },
    {
      "cell_type": "code",
      "metadata": {
        "id": "hDQjhVQYSSF3"
      },
      "source": [
        "# Ranking buckets, 1-100, 100-1000,1000-10000,10000-100000,100000-1000000\n",
        "buckets = pd.read_csv('MASTER_RESULTS.csv').sort_values(by=\"rank\")"
      ],
      "execution_count": 117,
      "outputs": []
    },
    {
      "cell_type": "code",
      "metadata": {
        "id": "9CcRI3ObaTxn",
        "outputId": "5b763ee6-8f9e-4834-d69e-9121c2b17a39",
        "colab": {
          "base_uri": "https://localhost:8080/",
          "height": 195
        }
      },
      "source": [
        "buckets.head()"
      ],
      "execution_count": 118,
      "outputs": [
        {
          "output_type": "execute_result",
          "data": {
            "text/html": [
              "<div>\n",
              "<style scoped>\n",
              "    .dataframe tbody tr th:only-of-type {\n",
              "        vertical-align: middle;\n",
              "    }\n",
              "\n",
              "    .dataframe tbody tr th {\n",
              "        vertical-align: top;\n",
              "    }\n",
              "\n",
              "    .dataframe thead th {\n",
              "        text-align: right;\n",
              "    }\n",
              "</style>\n",
              "<table border=\"1\" class=\"dataframe\">\n",
              "  <thead>\n",
              "    <tr style=\"text-align: right;\">\n",
              "      <th></th>\n",
              "      <th>site</th>\n",
              "      <th>rank</th>\n",
              "      <th>tld</th>\n",
              "      <th>tld_type</th>\n",
              "      <th>country</th>\n",
              "      <th>delv_result</th>\n",
              "    </tr>\n",
              "  </thead>\n",
              "  <tbody>\n",
              "    <tr>\n",
              "      <th>0</th>\n",
              "      <td>google.com</td>\n",
              "      <td>1</td>\n",
              "      <td>com</td>\n",
              "      <td>gTLD</td>\n",
              "      <td>US</td>\n",
              "      <td>0</td>\n",
              "    </tr>\n",
              "    <tr>\n",
              "      <th>1</th>\n",
              "      <td>youtube.com</td>\n",
              "      <td>2</td>\n",
              "      <td>com</td>\n",
              "      <td>gTLD</td>\n",
              "      <td>US</td>\n",
              "      <td>0</td>\n",
              "    </tr>\n",
              "    <tr>\n",
              "      <th>2</th>\n",
              "      <td>facebook.com</td>\n",
              "      <td>3</td>\n",
              "      <td>com</td>\n",
              "      <td>gTLD</td>\n",
              "      <td>US</td>\n",
              "      <td>0</td>\n",
              "    </tr>\n",
              "    <tr>\n",
              "      <th>3</th>\n",
              "      <td>microsoft.com</td>\n",
              "      <td>4</td>\n",
              "      <td>com</td>\n",
              "      <td>gTLD</td>\n",
              "      <td>US</td>\n",
              "      <td>0</td>\n",
              "    </tr>\n",
              "    <tr>\n",
              "      <th>4</th>\n",
              "      <td>twitter.com</td>\n",
              "      <td>5</td>\n",
              "      <td>com</td>\n",
              "      <td>gTLD</td>\n",
              "      <td>US</td>\n",
              "      <td>0</td>\n",
              "    </tr>\n",
              "  </tbody>\n",
              "</table>\n",
              "</div>"
            ],
            "text/plain": [
              "            site  rank  tld tld_type country  delv_result\n",
              "0     google.com     1  com     gTLD      US            0\n",
              "1    youtube.com     2  com     gTLD      US            0\n",
              "2   facebook.com     3  com     gTLD      US            0\n",
              "3  microsoft.com     4  com     gTLD      US            0\n",
              "4    twitter.com     5  com     gTLD      US            0"
            ]
          },
          "metadata": {
            "tags": []
          },
          "execution_count": 118
        }
      ]
    },
    {
      "cell_type": "code",
      "metadata": {
        "id": "pJJFW3Voad3o",
        "outputId": "82d2cb47-138a-4e51-c8a7-5475b5bbf704",
        "colab": {
          "base_uri": "https://localhost:8080/"
        }
      },
      "source": [
        "df_1 = buckets.iloc[:100]\n",
        "print(len(df_1))\n",
        "df_2 = buckets.iloc[100:1000]\n",
        "print(len(df_2))\n",
        "df_3 = buckets.iloc[1000:10000]\n",
        "print(len(df_3))\n",
        "df_4 = buckets.iloc[10000:100000]\n",
        "print(len(df_4))\n",
        "df_5 = buckets.iloc[100000:]\n",
        "print(len(df_5))\n",
        "df_buckets = [df_1, df_2, df_3, df_4, df_5]"
      ],
      "execution_count": 119,
      "outputs": [
        {
          "output_type": "stream",
          "text": [
            "100\n",
            "900\n",
            "9000\n",
            "90000\n",
            "900000\n"
          ],
          "name": "stdout"
        }
      ]
    },
    {
      "cell_type": "code",
      "metadata": {
        "id": "BSMqkQcYlgzt"
      },
      "source": [
        "# Pie chart for DNSSEC support for domains\n",
        "labels=['unsigned answer with failure (0.3%)','SERVFAIL (0.7%)','unsigned answer (93.9%)', 'fully validated (5.0%']\n",
        "pie(dnssec_support,pctdistance=2)\n",
        "plt.title(\"DNSSEC support for 1M domains\")\n",
        "plt.axis('equal')\n",
        "plt.savefig('dnssec_domains.png',dpi=100)\n",
        "plt.legend(labels=labels,loc=\"best\")\n",
        "plt.tight_layout()\n",
        "#files.download('dnssec_domains.png')"
      ],
      "execution_count": null,
      "outputs": []
    },
    {
      "cell_type": "code",
      "metadata": {
        "id": "8Ybt6EbfaoB4",
        "outputId": "2565ea29-24a7-4714-c02b-2fb5f567e736",
        "colab": {
          "base_uri": "https://localhost:8080/",
          "height": 1000
        }
      },
      "source": [
        "import matplotlib.pyplot as plt\n",
        "\n",
        "\n",
        "plt.figure(0)\n",
        "labels_1 = ['unsigned answer (96.0%)', 'fully validated (4.0%)']\n",
        "df_1.groupby('delv_result').count().site.plot(kind=\"pie\",title=\"Sites ranked 1-100 by Tranco\",ylabel='',xlabel='',labels=['',''])\n",
        "plt.legend(labels=labels_1)\n",
        "\n",
        "plt.figure(1)\n",
        "labels_2 = ['unsigned answer with failure (0.2%)','unsupported (0.1%)','unsigned answer (91.1%)', 'fully validated (8.6%)']\n",
        "df_2.groupby('delv_result').count().site.plot(kind=\"pie\",title=\"Sites ranked 100-1000 by Tranco\",ylabel='',xlabel='',labels=['','','',''])\n",
        "plt.legend(labels=labels_2)\n",
        "\n",
        "plt.figure(2)\n",
        "labels_3 = ['unsupported (0.1%)','unsigned answer with failure (0.2%)','unsigned answer (93.5%)', 'fully validated (6.2%)']\n",
        "df_3.groupby('delv_result').count().site.plot(kind=\"pie\",title=\"Sites ranked 1000-10000 by Tranco\",ylabel='',labels=['','','',''])   \n",
        "plt.legend(labels=labels_3)\n",
        "\n",
        "plt.figure(3)\n",
        "labels_4 = ['unsupported (0.3%)','unsigned answer with failure (0.3%)','unsigned answer (94.7%)', 'fully validated (4.8%)']\n",
        "df_4.groupby('delv_result').count().site.plot(kind=\"pie\",title=\"Sites ranked 10000-100000 by Tranco\",ylabel='',labels=['','','',''])\n",
        "plt.legend(labels=labels_4)\n",
        "\n",
        "plt.figure(4)\n",
        "labels_5 = ['unsupported (0.3%)','unsigned answer with failure (0.8%)','unsigned answer (93.8%)', 'fully validated (5.0%)']\n",
        "df_5.groupby('delv_result').count().site.plot(kind=\"pie\",title=\"Sites ranked 100000-1000000 by Tranco\",ylabel='',labels=['','','',''])\n",
        "plt.legend(labels=labels_5)\n",
        "\n",
        "plt.show()\n"
      ],
      "execution_count": 144,
      "outputs": [
        {
          "output_type": "display_data",
          "data": {
            "image/png": "[encoded data removed]",
            "text/plain": [
              "<Figure size 432x288 with 1 Axes>"
            ]
          },
          "metadata": {
            "tags": []
          }
        },
        {
          "output_type": "display_data",
          "data": {
            "image/png": "[encoded data removed]",
            "text/plain": [
              "<Figure size 432x288 with 1 Axes>"
            ]
          },
          "metadata": {
            "tags": []
          }
        },
        {
          "output_type": "display_data",
          "data": {
            "image/png": "[encoded data removed]",
            "text/plain": [
              "<Figure size 432x288 with 1 Axes>"
            ]
          },
          "metadata": {
            "tags": []
          }
        },
        {
          "output_type": "display_data",
          "data": {
            "image/png": "[encoded data removed]",
            "text/plain": [
              "<Figure size 432x288 with 1 Axes>"
            ]
          },
          "metadata": {
            "tags": []
          }
        },
        {
          "output_type": "display_data",
          "data": {
            "image/png": "[encoded data removed]",
            "text/plain": [
              "<Figure size 432x288 with 1 Axes>"
            ]
          },
          "metadata": {
            "tags": []
          }
        }
      ]
    },
    {
      "cell_type": "code",
      "metadata": {
        "id": "yFdAvBy1lfiA"
      },
      "source": [
        ""
      ],
      "execution_count": null,
      "outputs": []
    },
    {
      "cell_type": "code",
      "metadata": {
        "id": "rep2AXNebmKY"
      },
      "source": [
        ""
      ],
      "execution_count": null,
      "outputs": []
    }
  ]
}